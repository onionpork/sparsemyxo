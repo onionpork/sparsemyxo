{
 "metadata": {
  "language_info": {
   "codemirror_mode": {
    "name": "ipython",
    "version": 3
   },
   "file_extension": ".py",
   "mimetype": "text/x-python",
   "name": "python",
   "nbconvert_exporter": "python",
   "pygments_lexer": "ipython3",
   "version": "3.7.6-final"
  },
  "orig_nbformat": 2,
  "kernelspec": {
   "name": "python_defaultSpec_1610639757534",
   "display_name": "Python 3.7.6 64-bit ('base': conda)"
  }
 },
 "nbformat": 4,
 "nbformat_minor": 2,
 "cells": [
  {
   "cell_type": "code",
   "execution_count": 10,
   "metadata": {},
   "outputs": [],
   "source": [
    "import numpy as np\n",
    "import pystan\n",
    "import statsmodels.api as sm"
   ]
  },
  {
   "cell_type": "code",
   "execution_count": 11,
   "metadata": {
    "tags": []
   },
   "outputs": [
    {
     "output_type": "stream",
     "name": "stderr",
     "text": "INFO:pystan:COMPILING THE C++ CODE FOR MODEL anon_model_3aaa1aff3be33470f8a5bfa56085d51c NOW.\n"
    },
    {
     "output_type": "execute_result",
     "data": {
      "text/plain": "OrderedDict([('mu', array(-0.09737594))])"
     },
     "metadata": {},
     "execution_count": 11
    }
   ],
   "source": [
    "ocode = \"\"\"\n",
    "data {\n",
    "    int<lower=10> N;\n",
    "    real y[N]; // height for 10 people\n",
    "}\n",
    "parameters {\n",
    "    real mu;\n",
    "    real<lower=0> sigma; // sd of height distribution\n",
    "}\n",
    "model {\n",
    "    for (i in 1:10){\n",
    "        Y[i] ~ normal(mu, sigma); // likelihood\n",
    "    }\n",
    "    mu ~ normal(1.5, 0.1);\n",
    "    sigma ~ gamma(1,1);\n",
    "}\n",
    "\"\"\"\n",
    "sm = pystan.StanModel(model_code=ocode)\n",
    "y2 = np.random.normal(size=20)\n",
    "np.mean(y2)\n",
    "\n",
    "op = sm.optimizing(data=dict(y=y2, N=len(y2)))\n",
    "\n",
    "op\n",
    "\n"
   ]
  },
  {
   "cell_type": "code",
   "execution_count": 13,
   "metadata": {},
   "outputs": [
    {
     "output_type": "execute_result",
     "data": {
      "text/plain": "-0.09737593956186638"
     },
     "metadata": {},
     "execution_count": 13
    }
   ],
   "source": [
    "np.mean(y2)"
   ]
  },
  {
   "cell_type": "code",
   "execution_count": null,
   "metadata": {},
   "outputs": [],
   "source": []
  }
 ]
}