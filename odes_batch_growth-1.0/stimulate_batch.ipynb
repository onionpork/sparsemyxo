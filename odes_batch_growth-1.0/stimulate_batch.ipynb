{
 "metadata": {
  "language_info": {
   "codemirror_mode": {
    "name": "ipython",
    "version": 3
   },
   "file_extension": ".py",
   "mimetype": "text/x-python",
   "name": "python",
   "nbconvert_exporter": "python",
   "pygments_lexer": "ipython3",
   "version": "3.7.6-final"
  },
  "orig_nbformat": 2,
  "kernelspec": {
   "name": "python_defaultSpec_1610642393894",
   "display_name": "Python 3.7.6 64-bit ('base': conda)"
  }
 },
 "nbformat": 4,
 "nbformat_minor": 2,
 "cells": [
  {
   "cell_type": "code",
   "execution_count": 5,
   "metadata": {
    "tags": []
   },
   "outputs": [],
   "source": [
    "\n",
    "from scipy.integrate import solve_ivp\n",
    "import matplotlib.pyplot as plt\n",
    "import numpy as np\n",
    "import pandas as pd\n",
    "import scipy.stats as ss\n",
    "\n",
    "from bcodes.ratevector import create_rate_vector\n",
    "# from bcodes.stoichiometrymatrix import build_stoichiometry_matrix\n",
    "from model.batch_growth import batch_growth as m"
   ]
  },
  {
   "cell_type": "code",
   "execution_count": 1,
   "metadata": {
    "tags": []
   },
   "outputs": [
    {
     "output_type": "stream",
     "name": "stdout",
     "text": "ddd\n"
    },
    {
     "output_type": "error",
     "ename": "AssertionError",
     "evalue": "",
     "traceback": [
      "\u001b[0;31m---------------------------------------------------------------------------\u001b[0m",
      "\u001b[0;31mAssertionError\u001b[0m                            Traceback (most recent call last)",
      "\u001b[0;32m<ipython-input-1-f89c2eb0e84c>\u001b[0m in \u001b[0;36m<module>\u001b[0;34m\u001b[0m\n\u001b[0;32m----> 1\u001b[0;31m \u001b[0;32mimport\u001b[0m \u001b[0mbcodes\u001b[0m \u001b[0;32mas\u001b[0m \u001b[0maaa\u001b[0m\u001b[0;34m\u001b[0m\u001b[0;34m\u001b[0m\u001b[0m\n\u001b[0m",
      "\u001b[0;32m~/work/myxo/Funk_SVD/sparsedynamics/odes_batch_growth-1.0/bcodes/__init__.py\u001b[0m in \u001b[0;36m<module>\u001b[0;34m\u001b[0m\n\u001b[1;32m      1\u001b[0m \u001b[0mprint\u001b[0m\u001b[0;34m(\u001b[0m\u001b[0;34m'ddd'\u001b[0m\u001b[0;34m)\u001b[0m\u001b[0;34m\u001b[0m\u001b[0;34m\u001b[0m\u001b[0m\n\u001b[0;32m----> 2\u001b[0;31m \u001b[0;32massert\u001b[0m \u001b[0;36m0\u001b[0m\u001b[0;34m\u001b[0m\u001b[0;34m\u001b[0m\u001b[0m\n\u001b[0m",
      "\u001b[0;31mAssertionError\u001b[0m: "
     ]
    }
   ],
   "source": [
    "import bcodes as aaa"
   ]
  },
  {
   "cell_type": "code",
   "execution_count": 35,
   "metadata": {
    "tags": []
   },
   "outputs": [
    {
     "output_type": "stream",
     "name": "stdout",
     "text": "/Users/yiruichen/.vscode/extensions/ms-python.python-2020.8.109390/pythonFiles:/Users/yiruichen/.vscode/extensions/ms-python.python-2020.8.109390/pythonFiles/lib/python\n"
    }
   ],
   "source": [
    "!echo $PYTHONPATH"
   ]
  },
  {
   "cell_type": "code",
   "execution_count": 33,
   "metadata": {},
   "outputs": [
    {
     "output_type": "execute_result",
     "data": {
      "text/plain": "{'__name__': 'bcodes',\n '__doc__': None,\n '__package__': 'bcodes',\n '__loader__': <_frozen_importlib_external._NamespaceLoader at 0x7fe103a01d10>,\n '__spec__': ModuleSpec(name='bcodes', loader=<_frozen_importlib_external._NamespaceLoader object at 0x7fe103a01d10>, submodule_search_locations=_NamespacePath(['/Users/yiruichen/work/myxo/Funk_SVD/sparsedynamics/odes_batch_growth-1.0/bcodes', '/Users/yiruichen/work/myxo/Funk_SVD/sparsedynamics/odes_batch_growth-1.0/bcodes'])),\n '__file__': None,\n '__path__': _NamespacePath(['/Users/yiruichen/work/myxo/Funk_SVD/sparsedynamics/odes_batch_growth-1.0/bcodes', '/Users/yiruichen/work/myxo/Funk_SVD/sparsedynamics/odes_batch_growth-1.0/bcodes']),\n 'ratevector': <module 'bcodes.ratevector' from '/Users/yiruichen/work/myxo/Funk_SVD/sparsedynamics/odes_batch_growth-1.0/bcodes/ratevector.py'>,\n 'stoichiometrymatrix': <module 'bcodes.stoichiometrymatrix' from '/Users/yiruichen/work/myxo/Funk_SVD/sparsedynamics/odes_batch_growth-1.0/bcodes/stoichiometrymatrix.py'>}"
     },
     "metadata": {},
     "execution_count": 33
    }
   ],
   "source": [
    "aaa.__dict__"
   ]
  },
  {
   "cell_type": "code",
   "execution_count": null,
   "metadata": {},
   "outputs": [],
   "source": []
  },
  {
   "cell_type": "code",
   "execution_count": null,
   "metadata": {},
   "outputs": [],
   "source": []
  }
 ]
}